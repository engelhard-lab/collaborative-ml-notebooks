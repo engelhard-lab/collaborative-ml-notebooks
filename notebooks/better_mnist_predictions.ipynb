{
  "cells": [
    {
      "cell_type": "markdown",
      "metadata": {
        "id": "GAhB0ibxBJBb"
      },
      "source": [
        "# Better MNIST Predictions with PyTorch\n",
        "\n",
        "**It is recommended that you complete this notebook in Google Colab:**\n",
        "- otherwise you may encounter errors\n",
        "- this will allow you to access free GPU resources\n",
        "\n",
        "---\n",
        "In this notebook, we'll take a look at an important limitation of logistic regression and MLP models applied to images, then overcome these limitations by training a shallow CNN in PyTorch.\n",
        "\n",
        "Goals are as follows:\n",
        "\n",
        "- Observe that logistic regression is *not* effective when digits are not centered (why?)\n",
        "- Train a simple CNN to identify digits *even when their position varies*\n",
        "- Visualize the filters for each digit learned by the CNN\n",
        "- Create and train a model that classifies handwritten digits with over 98% accuracy\n",
        "\n",
        "We'll begin by importing required libraries:\n",
        "\n",
        "- numpy for efficient math operations\n",
        "- sklearn for defining and training our logistic regression and MLP models\n",
        "- matplotlib for visualization/plotting\n",
        "- torch modules for neural networks, optimization functions, activation functions, and creating baches"
      ]
    },
    {
      "cell_type": "code",
      "execution_count": 1,
      "metadata": {
        "id": "ez69LmdZBJBd"
      },
      "outputs": [],
      "source": [
        "import numpy as np\n",
        "import matplotlib.pyplot as plt\n",
        "import torch\n"
      ]
    },
    {
      "cell_type": "markdown",
      "metadata": {
        "id": "JxWCcVu_BJBd"
      },
      "source": [
        "As before, we'll load the MNIST dataset. The data are already broken down into:\n",
        "\n",
        "1. a development set, which we'll use for training\n",
        "2. a test set, which we'll use to evaluate performance\n",
        "\n",
        "As in the previous exercise, we will not be tuning our models, so we will not set aside a validation set."
      ]
    },
    {
      "cell_type": "code",
      "execution_count": 2,
      "metadata": {
        "colab": {
          "base_uri": "https://localhost:8080/"
        },
        "id": "B0c4OWUGBJBe",
        "outputId": "29ee1c2f-841e-4c2d-9545-cc61c5280eb8"
      },
      "outputs": [
        {
          "output_type": "stream",
          "name": "stdout",
          "text": [
            "Downloading http://yann.lecun.com/exdb/mnist/train-images-idx3-ubyte.gz\n",
            "Failed to download (trying next):\n",
            "HTTP Error 403: Forbidden\n",
            "\n",
            "Downloading https://ossci-datasets.s3.amazonaws.com/mnist/train-images-idx3-ubyte.gz\n",
            "Downloading https://ossci-datasets.s3.amazonaws.com/mnist/train-images-idx3-ubyte.gz to ./data/MNIST/raw/train-images-idx3-ubyte.gz\n"
          ]
        },
        {
          "output_type": "stream",
          "name": "stderr",
          "text": [
            "100%|██████████| 9.91M/9.91M [00:00<00:00, 16.0MB/s]\n"
          ]
        },
        {
          "output_type": "stream",
          "name": "stdout",
          "text": [
            "Extracting ./data/MNIST/raw/train-images-idx3-ubyte.gz to ./data/MNIST/raw\n",
            "\n",
            "Downloading http://yann.lecun.com/exdb/mnist/train-labels-idx1-ubyte.gz\n",
            "Failed to download (trying next):\n",
            "HTTP Error 403: Forbidden\n",
            "\n",
            "Downloading https://ossci-datasets.s3.amazonaws.com/mnist/train-labels-idx1-ubyte.gz\n",
            "Downloading https://ossci-datasets.s3.amazonaws.com/mnist/train-labels-idx1-ubyte.gz to ./data/MNIST/raw/train-labels-idx1-ubyte.gz\n"
          ]
        },
        {
          "output_type": "stream",
          "name": "stderr",
          "text": [
            "100%|██████████| 28.9k/28.9k [00:00<00:00, 489kB/s]\n"
          ]
        },
        {
          "output_type": "stream",
          "name": "stdout",
          "text": [
            "Extracting ./data/MNIST/raw/train-labels-idx1-ubyte.gz to ./data/MNIST/raw\n",
            "\n",
            "Downloading http://yann.lecun.com/exdb/mnist/t10k-images-idx3-ubyte.gz\n",
            "Failed to download (trying next):\n",
            "HTTP Error 403: Forbidden\n",
            "\n",
            "Downloading https://ossci-datasets.s3.amazonaws.com/mnist/t10k-images-idx3-ubyte.gz\n",
            "Downloading https://ossci-datasets.s3.amazonaws.com/mnist/t10k-images-idx3-ubyte.gz to ./data/MNIST/raw/t10k-images-idx3-ubyte.gz\n"
          ]
        },
        {
          "output_type": "stream",
          "name": "stderr",
          "text": [
            "100%|██████████| 1.65M/1.65M [00:00<00:00, 4.45MB/s]\n"
          ]
        },
        {
          "output_type": "stream",
          "name": "stdout",
          "text": [
            "Extracting ./data/MNIST/raw/t10k-images-idx3-ubyte.gz to ./data/MNIST/raw\n",
            "\n",
            "Downloading http://yann.lecun.com/exdb/mnist/t10k-labels-idx1-ubyte.gz\n",
            "Failed to download (trying next):\n",
            "HTTP Error 403: Forbidden\n",
            "\n",
            "Downloading https://ossci-datasets.s3.amazonaws.com/mnist/t10k-labels-idx1-ubyte.gz\n",
            "Downloading https://ossci-datasets.s3.amazonaws.com/mnist/t10k-labels-idx1-ubyte.gz to ./data/MNIST/raw/t10k-labels-idx1-ubyte.gz\n"
          ]
        },
        {
          "output_type": "stream",
          "name": "stderr",
          "text": [
            "100%|██████████| 4.54k/4.54k [00:00<00:00, 4.26MB/s]\n"
          ]
        },
        {
          "output_type": "stream",
          "name": "stdout",
          "text": [
            "Extracting ./data/MNIST/raw/t10k-labels-idx1-ubyte.gz to ./data/MNIST/raw\n",
            "\n",
            "There are 60000 training images.\n",
            "There are 10000 test images.\n"
          ]
        }
      ],
      "source": [
        "from torchvision import datasets, transforms\n",
        "\n",
        "# Load MNIST\n",
        "train_dataset = datasets.MNIST(root='./data', train=True, download=True)\n",
        "test_dataset = datasets.MNIST(root='./data', train=False, download=True)\n",
        "\n",
        "# Extract data and labels (seperate images and labels)\n",
        "x_dev = train_dataset.data  # Shape: (60000, 28, 28)\n",
        "y_dev = train_dataset.targets  # Shape: (60000,)\n",
        "\n",
        "x_test = test_dataset.data  # Shape: (10000, 28, 28)\n",
        "y_test = test_dataset.targets  # Shape: (60000,)\n",
        "\n",
        "\n",
        "\n",
        "# Normalize values so that they range from 0 to 1\n",
        "x_dev = x_dev / 255.\n",
        "x_test = x_test / 255.\n",
        "\n",
        "print('There are', len(x_dev), 'training images.')\n",
        "print('There are', len(x_test), 'test images.')"
      ]
    },
    {
      "cell_type": "markdown",
      "metadata": {
        "id": "by1ydij9BJBe"
      },
      "source": [
        "To review code that allows us to inspect the images and labels, please review [Computational Exercise 5](https://github.com/mengelhard/bsrt_ml4h/blob/master/notebooks/ce5.ipynb)."
      ]
    },
    {
      "cell_type": "markdown",
      "metadata": {
        "id": "xqIbwuLQBJBj"
      },
      "source": [
        "## Un-Centering our Digits\n",
        "In MNIST, all digits are centered, which substantially simplifies the problem. In many real-world datasets, on the other hand, we need to identify image features regardless of where they may be present within the image. Let's explore this issue by modifying MNIST so that digits are no longer centered. We'll first enlarge the images, then place digits at random positions within the enlarged image. We'll do this by padding each image (in both our development and test sets) with zeroes."
      ]
    },
    {
      "cell_type": "code",
      "execution_count": 3,
      "metadata": {
        "id": "VXi4BkrBBJBj"
      },
      "outputs": [],
      "source": [
        "def pad_image(img, pad_len):\n",
        "    m, n = img.shape\n",
        "    i = np.random.randint(pad_len - 2) + 1 # pick a horizontal offset between 1 and (pad_len - 1)\n",
        "    j = np.random.randint(pad_len - 2) + 1 # pick a vertical offset bewteen 1 and (pad_len - 1)\n",
        "    img = np.concatenate([[[0] * i] * m, img, [[0] * (pad_len - i)] * m], axis=1) # pad horizontally\n",
        "    img = np.concatenate([[[0] * (n + pad_len)] * j, img, [[0] * (n + pad_len)] * (pad_len - j)], axis=0) # pad vertically\n",
        "    return img\n",
        "\n",
        "x_dev_padded = np.array([pad_image(x, 20) for x in x_dev])\n",
        "x_test_padded = np.array([pad_image(x, 20) for x in x_test])"
      ]
    },
    {
      "cell_type": "markdown",
      "metadata": {
        "id": "YAQ6sQywBJBk"
      },
      "source": [
        "In the plots below, we see that digits are no longer centered in the modified dataset."
      ]
    },
    {
      "cell_type": "code",
      "execution_count": 4,
      "metadata": {
        "colab": {
          "base_uri": "https://localhost:8080/",
          "height": 319
        },
        "id": "-FbbcU9tBJBk",
        "outputId": "1a793d7f-4a97-4086-e838-efe23f128850"
      },
      "outputs": [
        {
          "output_type": "display_data",
          "data": {
            "text/plain": [
              "<Figure size 1500x300 with 5 Axes>"
            ],
            "image/png": "[encoded data removed]"
          },
          "metadata": {}
        }
      ],
      "source": [
        "fig, ax = plt.subplots(nrows=1, ncols=5, figsize=(15, 3))\n",
        "for i in range(5):\n",
        "    ax[i].imshow(x_dev_padded[i, :, :], cmap='gray')\n",
        "    ax[i].set_title('MNIST Image %i, Label = %i' % (i, y_dev[i]), fontsize=12)\n",
        "plt.tight_layout()\n",
        "plt.show()"
      ]
    },
    {
      "cell_type": "markdown",
      "metadata": {
        "id": "uqjCG14RBJBk"
      },
      "source": [
        "## Exercise 1: Logistic Regression\n",
        "Let's see whether logistic regression is able to classify digits effectively now that they're not centered. In the following block, you should:\n",
        "- Train a logistic regression model (i.e. LogisticRegression()) to predict the labels of digits in MNIST.\n",
        "- After training a model on the development set, evaluate its accuracy on the test set. As in the previous computational excercise, you'll need to flatten the images in order to use logistic regression. Remember that your predictions are no longer binary; instead, you are predicting one of ten different digits.\n",
        "- Visualize the logistic regression filters using the same or similar code as in [computational exercise 5](https://github.com/mengelhard/bsrt_ml4h/blob/master/notebooks/ce5.ipynb). Note that since we've padded the images, the filters are now (48, 48) in size rather than (28, 28)."
      ]
    },
    {
      "cell_type": "code",
      "execution_count": null,
      "metadata": {
        "id": "gVLbmiJLBJBk"
      },
      "outputs": [],
      "source": [
        "from sklearn.linear_model import LogisticRegression\n",
        "\n",
        "### CREATE A LOGISTIC REGRESSION MODEL AND TRAIN IT ON THE FLATTENED DEVELOPMENT SET ###\n",
        "\n",
        "\n",
        "### USE THE TRAINED MODEL TO MAKE PREDICTIONS ON THE (FLATTENED) TEST SET ###\n",
        "\n",
        "\n",
        "### EVALUATE THE ACCURACY OF THE MODEL'S PREDICTIONS ON THE TEST SET ###"
      ]
    },
    {
      "cell_type": "code",
      "execution_count": null,
      "metadata": {
        "id": "XVuPpQcmBJBl"
      },
      "outputs": [],
      "source": [
        "### ACCESS THE MODEL COEFFICIENTS ###\n",
        "\n",
        "\n",
        "### RESHAPE EACH OF THE 10 COEFFICIENT VECTORS TO HAVE SHAPE (48, 48) ###\n",
        "\n",
        "\n",
        "### PLOT EACH OF THE RESHAPED VECTORS (i.e. FILTERS) ###"
      ]
    },
    {
      "cell_type": "markdown",
      "metadata": {
        "id": "ld62tsVEBJBl"
      },
      "source": [
        "## Our First Pytorch Model\n",
        "---\n",
        "Lets create a simple CNN, thats has the following properties.\n",
        "1. **10 Filters**: one for each digit each of size 28 x 28 (same size as each unmodified MNIST image).\n",
        "2. The CNN we are creating is unusual and inefficient due to the small number of filters, where each are relatively large in size.\n",
        "3. We will max pool the output of each filter across each image. We want to pool the filters, so we can see if the digit corresponding to that filter is present in the whole image.\n",
        "   - The output of the **Pooling Operation** will give us the predicted **log-odds** for each of the 10 digits.\n",
        "4. **Steps**\n",
        "   1. Convert our `MNIST` image dataset into Tensors, so the images can be passed into the `PyTorch` Model.\n",
        "   2. Split training, and test datasets into batches. We will use a batch size of 32, which means that the model will process 32 images at a time."
      ]
    },
    {
      "cell_type": "code",
      "execution_count": 6,
      "metadata": {
        "id": "wBCbw3mPCl2N"
      },
      "outputs": [],
      "source": [
        "from torch.utils.data import DataLoader, TensorDataset\n",
        "\n",
        "# convert training and test datasets to tensor\n",
        "train_ds = TensorDataset(\n",
        "    torch.tensor(x_dev_padded, dtype=torch.float32), # features\n",
        "    y_dev.to(dtype=torch.long)\n",
        ")\n",
        "test_ds = TensorDataset(\n",
        "    torch.tensor(x_test_padded, dtype=torch.float32),\n",
        "    y_test.to(dtype=torch.long)\n",
        ")\n",
        "\n",
        "# create batch size of 32\n",
        "train_loader = DataLoader(train_ds, batch_size=32, shuffle=False)\n",
        "test_loader = DataLoader(test_ds, batch_size=32, shuffle=False)"
      ]
    },
    {
      "cell_type": "markdown",
      "metadata": {
        "id": "bm54817ZXiLO"
      },
      "source": [
        "#### Code Explanation\n",
        "\n",
        "We first convert the training (`x_dev_padded` and `y_dev`) and test (`x_test_padded` and `y_test`) into **Tensors** using `TensorDataset` from the `torch.utils.data` module.\n",
        "\n",
        "We then use the tensor objects (`train_ds` and `test_ds`) to create data loaders with a batch size of  32 (`train_loader` and `test_loader`). This is done using PyTorch's `DataLoader` class, which handles batches and other features like shuffling."
      ]
    },
    {
      "cell_type": "markdown",
      "metadata": {
        "id": "76RDAeWtgEMS"
      },
      "source": [
        "We can then loop over our batches as shown in the next block. Here our goal is just to see what a single batch looks like, so we'll break the loop after printing out the first batch."
      ]
    },
    {
      "cell_type": "code",
      "execution_count": 7,
      "metadata": {
        "colab": {
          "base_uri": "https://localhost:8080/"
        },
        "id": "rkSxcoqICsHN",
        "outputId": "97c351bc-b132-4394-f8ac-beb1107cd62b"
      },
      "outputs": [
        {
          "output_type": "stream",
          "name": "stdout",
          "text": [
            "The images have shape (32, 48, 48)\n",
            "The labels have shape (32,)\n"
          ]
        }
      ],
      "source": [
        "for images, labels in train_loader:\n",
        "    print('The images have shape', images.numpy().shape)\n",
        "    print('The labels have shape', labels.numpy().shape)\n",
        "    break"
      ]
    },
    {
      "cell_type": "markdown",
      "metadata": {
        "id": "VYqZNJU4hJWd"
      },
      "source": [
        "## Defining the Model\n",
        "\n",
        "To create the model, we need to make different types of layers (dense layers, convolutional layers, max pool layers, flatten layers).\n",
        "\n",
        "1. `Conv2d`: Convolutional layers, with:\n",
        "   - `in_channels`=1, refers to grayscale images\n",
        "   - `out_channels`=10, refers to the 10 features (numbers 0 to 9)\n",
        "   - `kernel_size`=28, refers to filter size 28x28\n",
        "   - `bias`=false, means no bias term is used in the `Conv2d` layer\n",
        "2. `nn.MaxPool2d`: This is the max pooling layer\n",
        "   - `kernel_size`=21, size of pooling window is 21x21\n",
        "3. `nn.Flatten()`: flattening layer; after applying convolution and pooling we must turn the multi-dimension tensor into a 1D vector\n",
        "\n",
        "To make this model we are using `Module` from `torch.nn`. The forward method defines operation to apply to the input tensor `x`.\n",
        "- `x.unsqueeze(1)`: Adds a channel dimension to `x`\n",
        "- `self.conv1`: Aplies the convolutional layer to `x`\n",
        "- `self.mp1`: passes feature maps through max pooling layer, to find maximum value within 21x21\n",
        "- `self.flatten` flattens the multidimensional tensor into a 1D vector"
      ]
    },
    {
      "cell_type": "code",
      "execution_count": 8,
      "metadata": {
        "id": "dXS8_qFSBJBl"
      },
      "outputs": [],
      "source": [
        "import torch.nn as nn\n",
        "import torch.optim as optim\n",
        "\n",
        "class SimpleCNN(nn.Module):\n",
        "    def __init__(self, in_channels=1, num_classes=10): #in_channel refers to color, but for MNIST its always 1\n",
        "        super(SimpleCNN, self).__init__()\n",
        "        self.conv1=nn.Conv2d(in_channels=1, out_channels=10, kernel_size=28, bias=False)\n",
        "        self.mp1=nn.MaxPool2d(kernel_size=21)\n",
        "        self.flatten=nn.Flatten()\n",
        "\n",
        "    def forward(self, x):\n",
        "        x=x.unsqueeze(1)\n",
        "        x=self.conv1(x)\n",
        "        x=self.mp1(x)\n",
        "        x=self.flatten(x)\n",
        "\n",
        "        return(x)"
      ]
    },
    {
      "cell_type": "markdown",
      "metadata": {
        "id": "NJYOs_fQlv7K"
      },
      "source": [
        "We can then create an instance of our `SimpleCNN`, just as we did when using `LogisticRegression` or `MLPClassifier` in `sklearn`."
      ]
    },
    {
      "cell_type": "code",
      "execution_count": 9,
      "metadata": {
        "id": "1JT6n8ZjTfSD"
      },
      "outputs": [],
      "source": [
        "model = SimpleCNN()"
      ]
    },
    {
      "cell_type": "markdown",
      "metadata": {
        "id": "5f6jkLM2l_Ee"
      },
      "source": [
        "Before training our model, we must first create **loss** and **optimization** objects\n",
        "- We will create the `loss_object` to calculate the cross-entropy loss based on two factors\n",
        "  1. Model's predicted logits\n",
        "  2. True labels in training set\n",
        "- We will create the `optimizer` object to determine model's parameters based on Adam optimizer (modified form of stochastic gradient descent)."
      ]
    },
    {
      "cell_type": "code",
      "execution_count": 10,
      "metadata": {
        "id": "QotAGwTRTd3S"
      },
      "outputs": [],
      "source": [
        "loss_object = nn.CrossEntropyLoss()\n",
        "optimizer = optim.Adam(model.parameters(), lr=0.001)"
      ]
    },
    {
      "cell_type": "markdown",
      "metadata": {
        "id": "-5PRlxAvBJBm"
      },
      "source": [
        "We will now train our model `model`, by looping over all batches in training set by the number of epochs. Epochs are a full pass through the entire training dataset. We'll loop over all the batches in our training set 5 times in a row (i.e. 5 EPOCHS). For each batch, we'll:\n",
        "1. apply our model to generate predictions for that batch\n",
        "2. calculate the loss based on those predictions\n",
        "3. calculate the gradient of the loss (i.e. how much does loss change in respose to changes in each parameter)\n",
        "4. use our optimizer to adjust the model parameters (i.e. `model.trainable_variables`) based on the gradient.\n",
        "5. Finally we will calculate the accuracy for each epoch\n",
        "**Important**: This code will be very slow unless you switch to a GPU runtime from the Colab menu. Even with this change, it'll still take a minute or two.\n",
        "- Runtime > Change runtime type"
      ]
    },
    {
      "cell_type": "code",
      "execution_count": 11,
      "metadata": {
        "colab": {
          "base_uri": "https://localhost:8080/"
        },
        "id": "DvYkMdHwBJBn",
        "outputId": "3671f366-2d92-48c9-f562-881c720b184f"
      },
      "outputs": [
        {
          "output_type": "stream",
          "name": "stdout",
          "text": [
            "Epoch 1: train accuracy = 85.9%, test accuracy = 91.7%\n",
            "Epoch 2: train accuracy = 92.3%, test accuracy = 93.2%\n",
            "Epoch 3: train accuracy = 93.5%, test accuracy = 94.0%\n",
            "Epoch 4: train accuracy = 94.2%, test accuracy = 94.3%\n",
            "Epoch 5: train accuracy = 94.6%, test accuracy = 94.5%\n"
          ]
        }
      ],
      "source": [
        "num_epochs=5\n",
        "\n",
        "for epoch in range(num_epochs):\n",
        "    train_accuracy = []\n",
        "    test_accuracy = []\n",
        "\n",
        "    model.train()\n",
        "# training loop\n",
        "    for images, labels in train_loader:\n",
        "        predicted_logits = model(images)\n",
        "        loss = loss_object(predicted_logits, labels)\n",
        "\n",
        "# backward pass\n",
        "        optimizer.zero_grad()\n",
        "        loss.backward()\n",
        "        optimizer.step()\n",
        "\n",
        "# Calculate accuracy\n",
        "        _, predicted_labels = torch.max(predicted_logits, 1)  # Get predicted class indices\n",
        "        batch_accuracy = (predicted_labels == labels).float().mean().item()  # Mean accuracy for batch\n",
        "        train_accuracy.append(batch_accuracy)\n",
        "\n",
        "# evaluation loop\n",
        "    model.eval()  # Set the model to evaluation mode\n",
        "    with torch.no_grad():  # Disable gradient calculations during evaluation\n",
        "        for images, labels in test_loader:\n",
        "            # Forward pass\n",
        "            predicted_logits = model(images)\n",
        "\n",
        "            # Calculate test accuracy\n",
        "            _, predicted_labels = torch.max(predicted_logits, 1)\n",
        "            batch_accuracy = (predicted_labels == labels).float().mean().item()\n",
        "            test_accuracy.append(batch_accuracy)\n",
        "\n",
        "    # calculate accuracy\n",
        "    train_accuracy = 100 * np.mean(train_accuracy)\n",
        "    test_accuracy = 100 * np.mean(test_accuracy)\n",
        "    print(f'Epoch {epoch + 1}: train accuracy = {train_accuracy:.1f}%, test accuracy = {test_accuracy:.1f}%')"
      ]
    },
    {
      "cell_type": "markdown",
      "metadata": {
        "id": "J2S9_qsVpmkh"
      },
      "source": [
        "## Exercise 2: Visualize the filters learned by the CNN\n",
        "The filters of the trained model can be accessed as an attribute of the `model.conv1.weight` layer, as shown in the first line of the block below. `filters` will be an array of size (10, 28, 28) corresponding to the 10 filters -- one for each digit -- each of which is the same size (28 by 28) as the images. In the following block, you should plot and inspect these filters."
      ]
    },
    {
      "cell_type": "code",
      "execution_count": null,
      "metadata": {
        "id": "mj-cTTKEbhzd"
      },
      "outputs": [],
      "source": [
        "filters = model.conv1.weight.data.numpy()\n",
        "filters = (filters - filters.min()) / (filters.max() - filters.min()) # normalize values\n",
        "\n",
        "filters = filters.squeeze(1)\n",
        "### PLOT EACH OF THE 10 28 by 28 FILTERS ###\n",
        "\n"
      ]
    },
    {
      "cell_type": "markdown",
      "metadata": {
        "id": "dOiUVhscBJBp"
      },
      "source": [
        "## Exercise 3: Better CNN\n",
        "**Note: This exercise is optional for those not already familar with Python**\n",
        "\n",
        "The CNN we created above is inefficient due to the large size of each filter (28x28).\n",
        "\n",
        "In this exercise, you'll build a better CNN, train it, and evaluate it.\n",
        "- Create the model by following the prompts in the code block below.\n",
        "- Then, duplicate code blocks above to create an instance of `BetterCNN`, train it, and evaluate its performance on the test set.\n",
        "\n",
        "The following may also be interesting, though none is required:\n",
        "- visualize the learned filters in the convolutional layer.\n",
        "- modify the architecture to see if performance can be further improved."
      ]
    },
    {
      "cell_type": "markdown",
      "metadata": {
        "id": "Swp_ZOQ3BJBr"
      },
      "source": [
        "The following blocks, repeated from above, can now be used to train and evaluate `BetterCNN`."
      ]
    },
    {
      "cell_type": "code",
      "execution_count": null,
      "metadata": {
        "id": "iPv0Ve2rboyC"
      },
      "outputs": [],
      "source": [
        "import torch\n",
        "import torch.nn as nn\n",
        "import torch.nn.functional as F\n",
        "\n",
        "class BetterCNN(Model):\n",
        "    def __init__(self):\n",
        "        super(BetterCNN, self).__init__()\n",
        "        ### DEFINE A CONVOLUTIONAL LAYER WITH 32 FILTERS OF SIZE 3 (i.e. 3x3) AND input size of 1 ###\n",
        "        ### DEFINE A MAX POOL LAYER WITH 2x2 POOL SIZE ###\n",
        "        ### DEFINE A SECOND CONVOLUTIONAL LAYER WITH 32 FILTERS OF SIZE 5 AND RELU ACTIVATION ###\n",
        "        ### DEFINE A FLATTEN LAYER ###\n",
        "        ### DEFINE A DENSE LAYER WITH OUTPUT SIZE 128  ###\n",
        "        ### DEFINE A DENSE LAYER WITH OUTPUT SIZE 10. THIS IS THE FINAL LAYER; OUTPUT WILL BE THE LOG-ODDS ###\n",
        "\n",
        "    def forward(self, x):\n",
        "        x = x.unsqueeze(1)\n",
        "        #x = ### APPLY FIRST CONVOLUTIONAL LAYER ###\n",
        "        #x = ### APPLY MAX POOL LAYER ###\n",
        "        #x = ### APPLY SECOND CONVOLUTIONAL LAYER ###\n",
        "        #x = ### APPLY MAX POOL LAYER ###\n",
        "        #x = ### APPLY FLATTEN LAYER ###\n",
        "        #x = ### APPLY FIRST DENSE LAYER ###\n",
        "        #x = ### APPLY SECOND DENSE LAYER ###\n",
        "        return x\n",
        "\n",
        "\n",
        "### SIDE NOTE: I recommend you apply the F.relu() method to the Conv2D, and  Dense Layers for better results."
      ]
    },
    {
      "cell_type": "code",
      "execution_count": null,
      "metadata": {
        "id": "Gxeo7qKiykwr"
      },
      "outputs": [],
      "source": [
        "model = BetterCNN()\n",
        "loss_object = nn.CrossEntropyLoss()\n",
        "optimizer = optim.Adam(model.parameters(), lr=0.001)"
      ]
    },
    {
      "cell_type": "code",
      "source": [],
      "metadata": {
        "id": "hl4O2hJiRCMd"
      },
      "execution_count": null,
      "outputs": []
    },
    {
      "cell_type": "code",
      "execution_count": null,
      "metadata": {
        "colab": {
          "base_uri": "https://localhost:8080/"
        },
        "id": "QqfuSPXYviRJ",
        "outputId": "b772a97a-2cce-4dba-945d-09e40f21d060"
      },
      "outputs": [
        {
          "output_type": "stream",
          "name": "stdout",
          "text": [
            "Epoch 1: train accuracy = 86.0%, test accuracy = 95.2%\n",
            "Epoch 2: train accuracy = 95.6%, test accuracy = 95.6%\n",
            "Epoch 3: train accuracy = 97.3%, test accuracy = 95.6%\n",
            "Epoch 4: train accuracy = 98.1%, test accuracy = 95.0%\n",
            "Epoch 5: train accuracy = 98.6%, test accuracy = 96.9%\n"
          ]
        }
      ],
      "source": [
        "num_epochs=5\n",
        "\n",
        "for epoch in range(num_epochs):\n",
        "    train_accuracy = []\n",
        "    test_accuracy = []\n",
        "\n",
        "    model.train()\n",
        "# training loop\n",
        "    for images, labels in train_loader:\n",
        "        predicted_logits = model(images)\n",
        "        loss = loss_object(predicted_logits, labels)\n",
        "\n",
        "# backward pass\n",
        "        optimizer.zero_grad()\n",
        "        loss.backward()\n",
        "        optimizer.step()\n",
        "\n",
        "# Calculate accuracy\n",
        "        _, predicted_labels = torch.max(predicted_logits, 1)  # Get predicted class indices\n",
        "        batch_accuracy = (predicted_labels == labels).float().mean().item()  # Mean accuracy for batch\n",
        "        train_accuracy.append(batch_accuracy)\n",
        "\n",
        "# evaluation loop\n",
        "    model.eval()  # Set the model to evaluation mode\n",
        "    with torch.no_grad():  # Disable gradient calculations during evaluation\n",
        "        for images, labels in test_loader:\n",
        "            # Forward pass\n",
        "            predicted_logits = model(images)\n",
        "\n",
        "            # Calculate test accuracy\n",
        "            _, predicted_labels = torch.max(predicted_logits, 1)\n",
        "            batch_accuracy = (predicted_labels == labels).float().mean().item()\n",
        "            test_accuracy.append(batch_accuracy)\n",
        "\n",
        "    # calculate accuracy\n",
        "    train_accuracy = 100 * np.mean(train_accuracy)\n",
        "    test_accuracy = 100 * np.mean(test_accuracy)\n",
        "    print(f'Epoch {epoch + 1}: train accuracy = {train_accuracy:.1f}%, test accuracy = {test_accuracy:.1f}%')"
      ]
    },
    {
      "cell_type": "markdown",
      "metadata": {
        "id": "iesZQUopBJBs"
      },
      "source": [
        "## Steps to distribute your work as an html file:\n",
        "\n",
        "If you're using Anaconda on your local machine:\n",
        "- download your notebook as html (see `File > Download as > HTML (.html)`)\n",
        "\n",
        "If you're using Google Colab:\n",
        "- download your notebook as .ipynb (see `File > Download > Download .ipynb`)\n",
        "- if you have nbconvert installed, convert it to .html and submit it in Talent LMS\n",
        "- if not, you may need to place the .ipynb file in a .zip archive in order to distribute it (e.g. to upload or send via email)"
      ]
    }
  ],
  "metadata": {
    "accelerator": "GPU",
    "colab": {
      "provenance": []
    },
    "kernelspec": {
      "display_name": "Python 3 (ipykernel)",
      "language": "python",
      "name": "python3"
    },
    "language_info": {
      "codemirror_mode": {
        "name": "ipython",
        "version": 3
      },
      "file_extension": ".py",
      "mimetype": "text/x-python",
      "name": "python",
      "nbconvert_exporter": "python",
      "pygments_lexer": "ipython3",
      "version": "3.12.7"
    }
  },
  "nbformat": 4,
  "nbformat_minor": 0
}