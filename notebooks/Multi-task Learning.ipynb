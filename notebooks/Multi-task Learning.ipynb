{
 "cells": [
  {
   "cell_type": "markdown",
   "id": "67a942c2",
   "metadata": {},
   "source": [
    "## <font color = black>A basic tutorial for multi-task learning model</font>"
   ]
  },
  {
   "cell_type": "markdown",
   "id": "9c6d2948",
   "metadata": {},
   "source": [
    "#### This is a tutorial on how to build a multi-task learning neural network model in PyTorch, using a specific project (predicting the risk of diabetes in patients) as an example to explain how to process data, build prediction models, train and tune models, and evaluate model performance."
   ]
  },
  {
   "cell_type": "markdown",
   "id": "159cdd31",
   "metadata": {},
   "source": [
    "#### by Yuqi (Lucilla) Li"
   ]
  },
  {
   "cell_type": "markdown",
   "id": "1efcba6c",
   "metadata": {},
   "source": [
    "### Step 0: import the needed packages "
   ]
  },
  {
   "cell_type": "code",
   "execution_count": 31,
   "id": "6900efa3",
   "metadata": {},
   "outputs": [],
   "source": [
    "import numpy as np\n",
    "import pandas as pd\n",
    "import matplotlib.pyplot as plt\n",
    "import seaborn as sns\n",
    "\n",
    "import torch\n",
    "import torch.nn as nn\n",
    "\n",
    "from torch.utils.data import Dataset, DataLoader\n",
    "from sklearn.metrics import roc_auc_score, average_precision_score, roc_curve, precision_recall_curve\n",
    "from sklearn.linear_model import LogisticRegression"
   ]
  },
  {
   "cell_type": "markdown",
   "id": "a074406d",
   "metadata": {},
   "source": [
    "### Set hyperparameters"
   ]
  },
  {
   "cell_type": "markdown",
   "id": "6b3d68e1",
   "metadata": {},
   "source": [
    "Hyperparameters are parameters that are set before the training of the model and determine the structure and behavior of the model during training, they have a significant impact on the performance of the model. Hyperparameters must be set by the user, and selecting appropriate values for them is often an important part of model optimization. **Examples** of hyperparameters in neural networks include the learning rate, number of hidden layers, number of neurons per layer, activation function, regularization factor, and batch size. "
   ]
  },
  {
   "cell_type": "code",
   "execution_count": 32,
   "id": "d14f8eeb",
   "metadata": {},
   "outputs": [],
   "source": [
    "## Placing hyperparameters at the beginning of the code will help you to fine-tune them.\n",
    "\n",
    "learning_rate = 0.001\n",
    "batch_size = 256\n",
    "epochs = 50\n",
    "\n",
    "lam = 0 \n",
    "# lambda is the hyperparameter of L1-regularization\n",
    "\n",
    "## Don't forget other hyperparameters (number of hidden layers/nodes, etc.)"
   ]
  },
  {
   "cell_type": "markdown",
   "id": "32c5d622",
   "metadata": {},
   "source": [
    "### Step 1: Data Process"
   ]
  },
  {
   "cell_type": "markdown",
   "id": "75866d63",
   "metadata": {},
   "source": [
    "The dataset we are using here is a publicly available dataset for a diabetes prediction model from \"https://www.kaggle.com\". The original dataset only has one outcome \"diabetes\", but I created a new outcome, which is more rare than \"diabetes\", to help with the construction of a multi-task learning model here."
   ]
  },
  {
   "cell_type": "code",
   "execution_count": 33,
   "id": "e89da9de",
   "metadata": {},
   "outputs": [
    {
     "data": {
      "text/html": [
       "<div>\n",
       "<style scoped>\n",
       "    .dataframe tbody tr th:only-of-type {\n",
       "        vertical-align: middle;\n",
       "    }\n",
       "\n",
       "    .dataframe tbody tr th {\n",
       "        vertical-align: top;\n",
       "    }\n",
       "\n",
       "    .dataframe thead th {\n",
       "        text-align: right;\n",
       "    }\n",
       "</style>\n",
       "<table border=\"1\" class=\"dataframe\">\n",
       "  <thead>\n",
       "    <tr style=\"text-align: right;\">\n",
       "      <th></th>\n",
       "      <th>gender</th>\n",
       "      <th>age</th>\n",
       "      <th>hypertension</th>\n",
       "      <th>heart_disease</th>\n",
       "      <th>smoking_history</th>\n",
       "      <th>bmi</th>\n",
       "      <th>HbA1c_level</th>\n",
       "      <th>blood_glucose_level</th>\n",
       "      <th>diabetes</th>\n",
       "      <th>outcome2</th>\n",
       "    </tr>\n",
       "  </thead>\n",
       "  <tbody>\n",
       "    <tr>\n",
       "      <th>59286</th>\n",
       "      <td>Female</td>\n",
       "      <td>34.00</td>\n",
       "      <td>0</td>\n",
       "      <td>0</td>\n",
       "      <td>never</td>\n",
       "      <td>27.55</td>\n",
       "      <td>6.6</td>\n",
       "      <td>200</td>\n",
       "      <td>0</td>\n",
       "      <td>0</td>\n",
       "    </tr>\n",
       "    <tr>\n",
       "      <th>71695</th>\n",
       "      <td>Male</td>\n",
       "      <td>0.64</td>\n",
       "      <td>0</td>\n",
       "      <td>0</td>\n",
       "      <td>No Info</td>\n",
       "      <td>18.74</td>\n",
       "      <td>5.8</td>\n",
       "      <td>140</td>\n",
       "      <td>0</td>\n",
       "      <td>0</td>\n",
       "    </tr>\n",
       "    <tr>\n",
       "      <th>70788</th>\n",
       "      <td>Female</td>\n",
       "      <td>41.00</td>\n",
       "      <td>0</td>\n",
       "      <td>0</td>\n",
       "      <td>not current</td>\n",
       "      <td>27.00</td>\n",
       "      <td>5.0</td>\n",
       "      <td>200</td>\n",
       "      <td>0</td>\n",
       "      <td>0</td>\n",
       "    </tr>\n",
       "    <tr>\n",
       "      <th>48299</th>\n",
       "      <td>Male</td>\n",
       "      <td>48.00</td>\n",
       "      <td>0</td>\n",
       "      <td>0</td>\n",
       "      <td>former</td>\n",
       "      <td>35.26</td>\n",
       "      <td>5.0</td>\n",
       "      <td>100</td>\n",
       "      <td>0</td>\n",
       "      <td>0</td>\n",
       "    </tr>\n",
       "    <tr>\n",
       "      <th>16144</th>\n",
       "      <td>Female</td>\n",
       "      <td>41.00</td>\n",
       "      <td>0</td>\n",
       "      <td>0</td>\n",
       "      <td>never</td>\n",
       "      <td>23.39</td>\n",
       "      <td>6.2</td>\n",
       "      <td>200</td>\n",
       "      <td>0</td>\n",
       "      <td>0</td>\n",
       "    </tr>\n",
       "  </tbody>\n",
       "</table>\n",
       "</div>"
      ],
      "text/plain": [
       "       gender    age  hypertension  heart_disease smoking_history    bmi  \\\n",
       "59286  Female  34.00             0              0           never  27.55   \n",
       "71695    Male   0.64             0              0         No Info  18.74   \n",
       "70788  Female  41.00             0              0     not current  27.00   \n",
       "48299    Male  48.00             0              0          former  35.26   \n",
       "16144  Female  41.00             0              0           never  23.39   \n",
       "\n",
       "       HbA1c_level  blood_glucose_level  diabetes  outcome2  \n",
       "59286          6.6                  200         0         0  \n",
       "71695          5.8                  140         0         0  \n",
       "70788          5.0                  200         0         0  \n",
       "48299          5.0                  100         0         0  \n",
       "16144          6.2                  200         0         0  "
      ]
     },
     "execution_count": 33,
     "metadata": {},
     "output_type": "execute_result"
    }
   ],
   "source": [
    "df = pd.read_csv(\"modified_diabetes.csv\").sample(frac = 1, random_state=2022)\n",
    "df.head()"
   ]
  },
  {
   "cell_type": "markdown",
   "id": "3330bf6f",
   "metadata": {},
   "source": [
    "There are two binary outcomes (diabetes, outcome2) and 8 features. For the features, We need to convert categorical variables into binary variables and to normalize the continuous varibles. In general, normalizing continuous variables can improve the performance of a neural network model. This is because if variables are not normalized, some variables may have much larger values than others, which can affect the model's performance. One common method is to subtract the mean of the data and divide by its standard deviation. Since we want to use as less information as possible from the valid/test set, we will use the mean and std in training set."
   ]
  },
  {
   "cell_type": "code",
   "execution_count": 34,
   "id": "bbf86b7f",
   "metadata": {},
   "outputs": [],
   "source": [
    "# define the outcomes\n",
    "outcome = [\"diabetes\", \"outcome2\"]\n",
    "\n",
    "# get predictors and outcomes\n",
    "x = pd.get_dummies(df.drop(columns = outcome), drop_first=True)\n",
    "y = df[outcome]"
   ]
  },
  {
   "cell_type": "code",
   "execution_count": 35,
   "id": "bbc9ef2c",
   "metadata": {},
   "outputs": [
    {
     "data": {
      "text/html": [
       "<div>\n",
       "<style scoped>\n",
       "    .dataframe tbody tr th:only-of-type {\n",
       "        vertical-align: middle;\n",
       "    }\n",
       "\n",
       "    .dataframe tbody tr th {\n",
       "        vertical-align: top;\n",
       "    }\n",
       "\n",
       "    .dataframe thead th {\n",
       "        text-align: right;\n",
       "    }\n",
       "</style>\n",
       "<table border=\"1\" class=\"dataframe\">\n",
       "  <thead>\n",
       "    <tr style=\"text-align: right;\">\n",
       "      <th></th>\n",
       "      <th>age</th>\n",
       "      <th>hypertension</th>\n",
       "      <th>heart_disease</th>\n",
       "      <th>bmi</th>\n",
       "      <th>HbA1c_level</th>\n",
       "      <th>blood_glucose_level</th>\n",
       "      <th>gender_Male</th>\n",
       "      <th>gender_Other</th>\n",
       "      <th>smoking_history_current</th>\n",
       "      <th>smoking_history_ever</th>\n",
       "      <th>smoking_history_former</th>\n",
       "      <th>smoking_history_never</th>\n",
       "      <th>smoking_history_not current</th>\n",
       "    </tr>\n",
       "  </thead>\n",
       "  <tbody>\n",
       "    <tr>\n",
       "      <th>59286</th>\n",
       "      <td>-0.350598</td>\n",
       "      <td>0</td>\n",
       "      <td>0</td>\n",
       "      <td>0.035096</td>\n",
       "      <td>1.002832</td>\n",
       "      <td>1.520457</td>\n",
       "      <td>0</td>\n",
       "      <td>0</td>\n",
       "      <td>0</td>\n",
       "      <td>0</td>\n",
       "      <td>0</td>\n",
       "      <td>1</td>\n",
       "      <td>0</td>\n",
       "    </tr>\n",
       "    <tr>\n",
       "      <th>71695</th>\n",
       "      <td>-1.833536</td>\n",
       "      <td>0</td>\n",
       "      <td>0</td>\n",
       "      <td>-1.293613</td>\n",
       "      <td>0.256155</td>\n",
       "      <td>0.046287</td>\n",
       "      <td>1</td>\n",
       "      <td>0</td>\n",
       "      <td>0</td>\n",
       "      <td>0</td>\n",
       "      <td>0</td>\n",
       "      <td>0</td>\n",
       "      <td>0</td>\n",
       "    </tr>\n",
       "    <tr>\n",
       "      <th>70788</th>\n",
       "      <td>-0.039430</td>\n",
       "      <td>0</td>\n",
       "      <td>0</td>\n",
       "      <td>-0.047854</td>\n",
       "      <td>-0.490522</td>\n",
       "      <td>1.520457</td>\n",
       "      <td>0</td>\n",
       "      <td>0</td>\n",
       "      <td>0</td>\n",
       "      <td>0</td>\n",
       "      <td>0</td>\n",
       "      <td>0</td>\n",
       "      <td>1</td>\n",
       "    </tr>\n",
       "    <tr>\n",
       "      <th>48299</th>\n",
       "      <td>0.271738</td>\n",
       "      <td>0</td>\n",
       "      <td>0</td>\n",
       "      <td>1.197905</td>\n",
       "      <td>-0.490522</td>\n",
       "      <td>-0.936493</td>\n",
       "      <td>1</td>\n",
       "      <td>0</td>\n",
       "      <td>0</td>\n",
       "      <td>0</td>\n",
       "      <td>1</td>\n",
       "      <td>0</td>\n",
       "      <td>0</td>\n",
       "    </tr>\n",
       "    <tr>\n",
       "      <th>16144</th>\n",
       "      <td>-0.039430</td>\n",
       "      <td>0</td>\n",
       "      <td>0</td>\n",
       "      <td>-0.592308</td>\n",
       "      <td>0.629494</td>\n",
       "      <td>1.520457</td>\n",
       "      <td>0</td>\n",
       "      <td>0</td>\n",
       "      <td>0</td>\n",
       "      <td>0</td>\n",
       "      <td>0</td>\n",
       "      <td>1</td>\n",
       "      <td>0</td>\n",
       "    </tr>\n",
       "  </tbody>\n",
       "</table>\n",
       "</div>"
      ],
      "text/plain": [
       "            age  hypertension  heart_disease       bmi  HbA1c_level  \\\n",
       "59286 -0.350598             0              0  0.035096     1.002832   \n",
       "71695 -1.833536             0              0 -1.293613     0.256155   \n",
       "70788 -0.039430             0              0 -0.047854    -0.490522   \n",
       "48299  0.271738             0              0  1.197905    -0.490522   \n",
       "16144 -0.039430             0              0 -0.592308     0.629494   \n",
       "\n",
       "       blood_glucose_level  gender_Male  gender_Other  \\\n",
       "59286             1.520457            0             0   \n",
       "71695             0.046287            1             0   \n",
       "70788             1.520457            0             0   \n",
       "48299            -0.936493            1             0   \n",
       "16144             1.520457            0             0   \n",
       "\n",
       "       smoking_history_current  smoking_history_ever  smoking_history_former  \\\n",
       "59286                        0                     0                       0   \n",
       "71695                        0                     0                       0   \n",
       "70788                        0                     0                       0   \n",
       "48299                        0                     0                       1   \n",
       "16144                        0                     0                       0   \n",
       "\n",
       "       smoking_history_never  smoking_history_not current  \n",
       "59286                      1                            0  \n",
       "71695                      0                            0  \n",
       "70788                      0                            1  \n",
       "48299                      0                            0  \n",
       "16144                      1                            0  "
      ]
     },
     "execution_count": 35,
     "metadata": {},
     "output_type": "execute_result"
    }
   ],
   "source": [
    "# find the 60% and 80% index\n",
    "first_valid_index = (len(y)*3)//5\n",
    "first_test_index = (len(y)*4)//5\n",
    "\n",
    "\n",
    "# Normalize the continuous variables\n",
    "x_train = x[:first_valid_index]   # use trainning set to calculate mean and std\n",
    "\n",
    "num_pred = ['age', 'bmi', \"HbA1c_level\", \"blood_glucose_level\"]\n",
    "x_train_mean = x_train[num_pred].mean()\n",
    "x_train_std = x_train[num_pred].std()\n",
    "\n",
    "x.loc[:, num_pred] = (x[num_pred] - x_train_mean) / x_train_std\n",
    "\n",
    "# define the training, validation and test datasets\n",
    "x_train = x[:first_valid_index]\n",
    "y_train = y[:first_valid_index]\n",
    "\n",
    "x_valid = x[first_valid_index:first_test_index]\n",
    "y_valid = y[first_valid_index:first_test_index]\n",
    "\n",
    "x_test = x[first_test_index:]\n",
    "y_test = y[first_test_index:]\n",
    "\n",
    "x.head()  # now we have 13 features as input"
   ]
  },
  {
   "cell_type": "markdown",
   "id": "4996f93b",
   "metadata": {},
   "source": [
    "### Step 2: Create Dataset and Dataloader"
   ]
  },
  {
   "cell_type": "markdown",
   "id": "644f6674",
   "metadata": {},
   "source": [
    "In PyTorch, datasets are usually transformed into Dataset and DataLoader objects for efficient handling and input to neural network models. **“Dataset”** is an abstract class that defines how data is retrieved, while **“DataLoader”** loads the data in batches for training, with options for randomization and parallel processing. The main benefits of using Dataset and DataLoader objects are efficient memory usage, faster training, and easy data augmentation and preprocessing. Using these objects makes the data handling process more flexible, efficient, and suitable for training neural network models in PyTorch."
   ]
  },
  {
   "cell_type": "code",
   "execution_count": 36,
   "id": "c922c2e9",
   "metadata": {},
   "outputs": [],
   "source": [
    "# from pandas.dataframe to numpy.array, float32\n",
    "x_train = x_train.to_numpy().astype(np.float32)\n",
    "y_train = y_train.to_numpy().astype(np.float32)\n",
    "x_valid = x_valid.to_numpy().astype(np.float32)\n",
    "y_valid = y_valid.to_numpy().astype(np.float32)\n",
    "x_test = x_test.to_numpy().astype(np.float32)\n",
    "y_test = y_test.to_numpy().astype(np.float32)\n",
    "\n",
    "\n",
    "# define the dataset class\n",
    "class TransData(Dataset):\n",
    "    def __init__(self, xx, yy):\n",
    "        self.X =xx\n",
    "        self.y =yy\n",
    "\n",
    "    def __len__(self):\n",
    "        return self.X.shape[0]\n",
    "\n",
    "    def __getitem__(self, idx):\n",
    "        return torch.from_numpy(self.X[idx,:]), torch.from_numpy(self.y[idx,:])\n",
    "\n",
    "# Create datasets\n",
    "set_train = TransData(xx=x_train, yy=y_train)\n",
    "set_valid = TransData(xx=x_valid, yy=y_valid)\n",
    "set_test = TransData(xx=x_test, yy=y_test)\n",
    "\n",
    "# Create dataloader\n",
    "train_dlr = DataLoader(set_train, batch_size=batch_size, shuffle=True)\n",
    "valid_dlr = DataLoader(set_valid, batch_size=batch_size, shuffle=True)\n",
    "test_dlr = DataLoader(set_test, batch_size=batch_size, shuffle=True)"
   ]
  },
  {
   "cell_type": "markdown",
   "id": "558091c0",
   "metadata": {},
   "source": [
    "### Step 3: Define and Train the Model"
   ]
  },
  {
   "cell_type": "code",
   "execution_count": 37,
   "id": "aef29a20",
   "metadata": {},
   "outputs": [],
   "source": [
    "## Model definition\n",
    "\n",
    "class MTLnet(nn.Module):\n",
    "    def __init__(self):\n",
    "        super(MTLnet, self).__init__()\n",
    "        self.flatten = nn.Flatten()\n",
    "        self.linear_sigmoid_stack = nn.Sequential(\n",
    "            nn.Linear(13, 1024),\n",
    "            nn.ReLU(),\n",
    "            nn.Linear(1024, 2),\n",
    "            nn.Sigmoid()\n",
    "        )\n",
    "    def forward(self, x):\n",
    "        x = self.flatten(x)\n",
    "        logits = self.linear_sigmoid_stack(x)\n",
    "        return logits"
   ]
  },
  {
   "cell_type": "markdown",
   "id": "1df95639",
   "metadata": {},
   "source": [
    "The model consists of a flattening layer followed by a stack of linear and non-linear layers. The **input** to the model is expected to be a tensor with a shape of **batch size = 13**. The linear and non-linear stack is defined using the **nn.Sequential()** method, and consists of **two linear layers with 1024 and 2 output units**, respectively, separated by a **ReLU** activation function. The final layer uses a **sigmoid** activation function to produce the output. The model is designed to perform binary classification and **predict two outcomes**.\n",
    "\n",
    "In practice, you coulde change the number of hidden layers, number of hidden nodes in each layer, activation function, etc., according to your goals."
   ]
  },
  {
   "cell_type": "code",
   "execution_count": 38,
   "id": "9d42f35e",
   "metadata": {},
   "outputs": [
    {
     "name": "stdout",
     "output_type": "stream",
     "text": [
      "MTLnet(\n",
      "  (flatten): Flatten(start_dim=1, end_dim=-1)\n",
      "  (linear_sigmoid_stack): Sequential(\n",
      "    (0): Linear(in_features=13, out_features=1024, bias=True)\n",
      "    (1): ReLU()\n",
      "    (2): Linear(in_features=1024, out_features=2, bias=True)\n",
      "    (3): Sigmoid()\n",
      "  )\n",
      ")\n"
     ]
    }
   ],
   "source": [
    "device = \"cuda\" if torch.cuda.is_available() else \"cpu\"\n",
    "\n",
    "model = MTLnet()\n",
    "model.to(device)\n",
    "print(model)"
   ]
  },
  {
   "cell_type": "markdown",
   "id": "b7d52651",
   "metadata": {},
   "source": [
    "#### Define the trainning and validation loop"
   ]
  },
  {
   "cell_type": "code",
   "execution_count": 39,
   "id": "aac62843",
   "metadata": {},
   "outputs": [],
   "source": [
    "def train_loop(dataloader, model, optimizer,lam):\n",
    "    size = len(dataloader.dataset)\n",
    "    num_batches = len(dataloader)\n",
    "    total_loss, overall_loss = 0, 0\n",
    "    \n",
    "    for batch_size, (X, y) in enumerate(dataloader):\n",
    "        # Compute prediction and loss on training set\n",
    "        pred = model(X)\n",
    "        loss1 = nn.functional.binary_cross_entropy(pred[:, 0], y[:, 0])\n",
    "        loss2 = nn.functional.binary_cross_entropy(pred[:, 1], y[:, 1])\n",
    "        total_loss = (loss1 + loss2)/2\n",
    "        # torch mean\n",
    "        overall_loss += total_loss.item()\n",
    "\n",
    "        # L1 regularization will help overcome overfitting\n",
    "        # Here, the \"lambda\" is also a hyperparameter\n",
    "        regularization_loss = 0\n",
    "        for param in model.parameters():\n",
    "            regularization_loss += torch.sum(torch.abs(param))\n",
    "            \n",
    "        total_l1_loss = total_loss + lam * regularization_loss\n",
    "        \n",
    "        # Backpropagation, help optimize the model parameters\n",
    "        optimizer.zero_grad()\n",
    "        total_l1_loss.backward()\n",
    "        optimizer.step()\n",
    "\n",
    "\n",
    "    overall_loss /= num_batches # compare the average loss\n",
    "\n",
    "    # print(f\"train loss: {overall_loss:>7f} \")  \n",
    "\n",
    "    \n",
    "    \n",
    "def valid_loop(dataloader, model, loss_list):\n",
    "    size = len(dataloader.dataset)\n",
    "    num_batches = len(dataloader)\n",
    "    valid_loss, total_loss, correct = 0, 0, 0\n",
    "\n",
    "    with torch.no_grad():\n",
    "        for X, y in dataloader:\n",
    "            # Compute prediction and loss on validation set\n",
    "            pred = model(X)\n",
    "            loss1 = nn.functional.binary_cross_entropy(pred[:, 0], y[:, 0])\n",
    "            loss2 = nn.functional.binary_cross_entropy(pred[:, 1], y[:, 1])\n",
    "            total_loss = (loss1 + loss2)/2\n",
    "            valid_loss += total_loss.item()\n",
    "\n",
    "    valid_loss /= num_batches  #compare the average loss\n",
    "    loss_list.append(valid_loss)\n",
    "    \n",
    "    # print(f\"valid loss: {valid_loss:>7f} \")\n",
    "\n",
    "    return loss_list  # loss_list help us track the validation loss of each epoch, see whether it converges\n",
    "\n"
   ]
  },
  {
   "cell_type": "markdown",
   "id": "ed7781db",
   "metadata": {},
   "source": [
    "#### Training"
   ]
  },
  {
   "cell_type": "code",
   "execution_count": 40,
   "id": "e5e714f8",
   "metadata": {},
   "outputs": [],
   "source": [
    "## Define the optimizer\n",
    "## You can try to use other optimizer, e.g. Adam\n",
    "optimizer = torch.optim.SGD(model.parameters(), lr=learning_rate)\n",
    "\n",
    "loss_list = []  ## track the validation loss\n",
    "\n",
    "for t in range(epochs):\n",
    "    # print(f\"Epoch {t+1}\\n-------------------------------\")\n",
    "    train_loop(train_dlr, model, optimizer,lam = lam)\n",
    "    valid_loop(valid_dlr, model, loss_list)"
   ]
  },
  {
   "cell_type": "markdown",
   "id": "31c15c03",
   "metadata": {},
   "source": [
    "### Step 4: Evaluate the Model Performance and Fine-tune the Hyperparameters"
   ]
  },
  {
   "cell_type": "code",
   "execution_count": 41,
   "id": "85e7b30c",
   "metadata": {},
   "outputs": [
    {
     "data": {
      "image/png": "[encoded data removed]",
      "text/plain": [
       "<Figure size 576x396 with 1 Axes>"
      ]
     },
     "metadata": {},
     "output_type": "display_data"
    }
   ],
   "source": [
    "## We track the loss and plot it to see if it converges or if overfitting occurs.\n",
    "x_epoch = list(range(1, epochs+1))\n",
    "\n",
    "plt.plot(x_epoch, loss_list)\n",
    "plt.xlabel('Epochs')\n",
    "plt.ylabel('Validation Loss')\n",
    "plt.title(\"Track the loss on validation set\")\n",
    "plt.show()"
   ]
  },
  {
   "cell_type": "markdown",
   "id": "d3ebfa70",
   "metadata": {},
   "source": [
    "It looks like the model has not converged yet. You could try to increase the number of epochs (usually from 50 to 250) and track the loss again to see if the curve changes."
   ]
  },
  {
   "cell_type": "markdown",
   "id": "c3655fe5",
   "metadata": {},
   "source": [
    "#### Fine-tune the hyperparameters according to the performance on validation set"
   ]
  },
  {
   "cell_type": "code",
   "execution_count": 42,
   "id": "7f023037",
   "metadata": {},
   "outputs": [],
   "source": [
    "y_target = []\n",
    "y_pred = []\n",
    "\n",
    "# predict the outcomes on validation set\n",
    "with torch.no_grad():\n",
    "    for X, y in valid_dlr:\n",
    "        pred = model(X)\n",
    "        y_pred += pred.tolist()  # prediction\n",
    "        y_target += y.tolist()   # true labels\n",
    "        "
   ]
  },
  {
   "cell_type": "code",
   "execution_count": 43,
   "id": "03444cd1",
   "metadata": {},
   "outputs": [],
   "source": [
    "def auroc(l0, p0, l1, p1):\n",
    "    auc = roc_auc_score(l0, p0)\n",
    "    ap = average_precision_score(l0, p0)\n",
    "    auc1 = roc_auc_score(l1, p1)\n",
    "    ap1 = average_precision_score(l1, p1)\n",
    "\n",
    "    plt.style.use('seaborn')\n",
    "    sns.set_style(\"whitegrid\")\n",
    "    fig, ax = plt.subplots(nrows=2, ncols=2, figsize=(10, 10))\n",
    "\n",
    "    fpr, tpr, _ = roc_curve(l0, p0)\n",
    "    precision, recall, _ = precision_recall_curve(l0, p0)\n",
    "    fpr1, tpr1, _ = roc_curve(l1, p1)\n",
    "    precision1, recall1, _ = precision_recall_curve(l1, p1)\n",
    "\n",
    "\n",
    "    ax[0,0].plot(fpr, tpr, label='Diabetes AUC = %.3f' % auc)\n",
    "    ax[0,0].set_xlim([-.01, 1.01])\n",
    "    ax[0,0].set_ylim([-.01, 1.01])\n",
    "    ax[0,0].set_xlabel('False Positive Rate (1 - Specificity)', fontsize=14)\n",
    "    ax[0,0].set_ylabel('True Positive Rate (Sensitivity)', fontsize=14)\n",
    "    ax[0,0].plot([0, 1], [0, 1], 'k--', label='No information')\n",
    "    ax[0,0].legend(loc='lower right', fontsize=14)\n",
    "\n",
    "    ax[0,1].plot(recall, precision, label='Diabetes AUC Avg PPV = %.3f' % ap)\n",
    "    ax[0,1].set_xlim([-.01, 1.01])\n",
    "    ax[0,1].set_ylim([-.01, 1.01])\n",
    "    ax[0,1].set_xlabel('Recall (Sensitivity)', fontsize=14)\n",
    "    ax[0,1].set_ylabel('Precision (Positive Predictive Value)', fontsize=14)\n",
    "    ax[0,1].plot([0, 1], [l0.mean(), l0.mean()], 'k--', label='No information')\n",
    "    ax[0,1].legend(loc='upper right', fontsize=14)\n",
    "\n",
    "    ax[1,0].plot(fpr1, tpr1, label='Outcome 2 AUC = %.3f' % auc1)\n",
    "    ax[1,0].set_xlim([-.01, 1.01])\n",
    "    ax[1,0].set_ylim([-.01, 1.01])\n",
    "    ax[1,0].set_xlabel('False Positive Rate (1 - Specificity)', fontsize=14)\n",
    "    ax[1,0].set_ylabel('True Positive Rate (Sensitivity)', fontsize=14)\n",
    "    ax[1,0].plot([0, 1], [0, 1], 'k--', label='No information')\n",
    "    ax[1,0].legend(loc='lower right', fontsize=14)\n",
    "\n",
    "    ax[1,1].plot(recall1, precision1, label='Outcome 2 Avg PPV  = %.3f' % ap1)\n",
    "    ax[1,1].set_xlim([-.01, 1.01])\n",
    "    ax[1,1].set_ylim([-.01, 1.01])\n",
    "    ax[1,1].set_xlabel('Recall (Sensitivity)', fontsize=14)\n",
    "    ax[1,1].set_ylabel('Precision (Positive Predictive Value)', fontsize=14)\n",
    "    ax[1,1].plot([0, 1], [l1.mean(), l1.mean()], 'k--', label='No information')\n",
    "    ax[1,1].legend(loc='upper right', fontsize=14)\n",
    "    \n",
    "    fig.suptitle(\"Model Performance\") \n",
    "    plt.tight_layout()\n",
    "    plt.show()"
   ]
  },
  {
   "cell_type": "markdown",
   "id": "28bc01a3",
   "metadata": {},
   "source": [
    "Now we plot two curves to see the performance on validation set. You could fine-tune the hyperparameters until you find a \"best\" model with best performance on validation set. Then you will get the final version of model, and you can make prediction on the test set."
   ]
  },
  {
   "cell_type": "code",
   "execution_count": 44,
   "id": "b9f9e3f3",
   "metadata": {},
   "outputs": [
    {
     "data": {
      "image/png": "[encoded data removed]",
      "text/plain": [
       "<Figure size 720x720 with 4 Axes>"
      ]
     },
     "metadata": {},
     "output_type": "display_data"
    }
   ],
   "source": [
    "auroc(np.array([y_target[i][0] for i in range(len(y_target))]),\n",
    "      np.array([y_pred[i][0] for i in range(len(y_pred))]),\n",
    "      np.array([y_target[i][1] for i in range(len(y_target))]),\n",
    "      np.array([y_pred[i][1] for i in range(len(y_pred))]))"
   ]
  },
  {
   "cell_type": "markdown",
   "id": "7c65f806",
   "metadata": {},
   "source": [
    "**Here, we are using AUROC and Precision-recall curves to evaluate the model performance.**\n",
    "\n",
    "AUROC is a curve that measures the performance of a binary classifier at various thresholds. It plots the True Positive Rate (TPR) against the False Positive Rate (FPR) at different threshold values. The area under this curve (AUROC) provides a measure of the overall performance of the classifier, with higher values indicating better performance.\n",
    "\n",
    "Precision-recall curve is another evaluation metric that is commonly used in binary classification tasks. It plots the precision (positive predictive value) against the recall (sensitivity) for different threshold values. The area under this curve (AUPRC) provides a measure of the overall performance of the classifier, with higher values indicating better performance.\n",
    "\n",
    "AUROC is typically used when the class distribution is balanced, while precision-recall curve is more appropriate when the class distribution is imbalanced. Both metrics are useful for evaluating the performance of binary classification models and can provide insights into their strengths and weaknesses."
   ]
  },
  {
   "cell_type": "markdown",
   "id": "79f9baf6",
   "metadata": {},
   "source": [
    "### Step 5: Evaluate the Model on Test set"
   ]
  },
  {
   "cell_type": "markdown",
   "id": "8c04933f",
   "metadata": {},
   "source": [
    "Except for AUROC and Precision-Recall curves, we still have some other techniques to assess the discrimination performance. I will summarize the methods that I used in my project in the next tutorial."
   ]
  },
  {
   "cell_type": "code",
   "execution_count": null,
   "id": "e5e6c7af",
   "metadata": {},
   "outputs": [],
   "source": []
  }
 ],
 "metadata": {
  "kernelspec": {
   "display_name": "Python 3 (ipykernel)",
   "language": "python",
   "name": "python3"
  },
  "language_info": {
   "codemirror_mode": {
    "name": "ipython",
    "version": 3
   },
   "file_extension": ".py",
   "mimetype": "text/x-python",
   "name": "python",
   "nbconvert_exporter": "python",
   "pygments_lexer": "ipython3",
   "version": "3.8.13"
  }
 },
 "nbformat": 4,
 "nbformat_minor": 5
}
