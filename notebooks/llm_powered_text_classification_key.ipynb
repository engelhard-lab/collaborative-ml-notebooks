{
 "cells": [
  {
   "cell_type": "markdown",
   "metadata": {},
   "source": [
    "# LLM-powered text classification\n",
    "\n",
    "---\n",
    "In this notebook, we'll continue working with the \"PubMed 200k RCT dataset\", but this time, we'll use a large language model to convert each sentence to a corresponding *embeddings* rather than using word counts.\n",
    "\n",
    "Goals of the notebook are as follows:\n",
    "\n",
    "- Load a pre-trained large language model (LLM) and see how it can be used to convert sentences into numeric vectors\n",
    "- Train and evaluate a simple model that classifies sentences based on the embeddings given by the LLM\n",
    "\n",
    "We'll need Huggingface and Pytorch to *embed* our sentences (as numeric vectors)"
   ]
  },
  {
   "cell_type": "code",
   "execution_count": 1,
   "metadata": {},
   "outputs": [],
   "source": [
    "import numpy as np\n",
    "import pandas as pd\n",
    "import matplotlib.pyplot as plt\n",
    "import requests, shutil"
   ]
  },
  {
   "cell_type": "markdown",
   "metadata": {},
   "source": [
    "The next couple of blocks will load the dataset. We've seen this code several times."
   ]
  },
  {
   "cell_type": "code",
   "execution_count": 2,
   "metadata": {},
   "outputs": [],
   "source": [
    "train_url = 'https://github.com/Franck-Dernoncourt/pubmed-rct/raw/master/PubMed_20k_RCT/train.txt?raw=true'\n",
    "val_url = 'https://github.com/Franck-Dernoncourt/pubmed-rct/raw/master/PubMed_20k_RCT/dev.txt?raw=true'\n",
    "test_url = 'https://github.com/Franck-Dernoncourt/pubmed-rct/raw/master/PubMed_20k_RCT/test.txt?raw=true'"
   ]
  },
  {
   "cell_type": "code",
   "execution_count": 3,
   "metadata": {},
   "outputs": [
    {
     "name": "stdout",
     "output_type": "stream",
     "text": [
      "There are 10000 sentences in the training set\n",
      "There are 10000 sentences in the validation set\n",
      "There are 10000 sentences in the test set\n"
     ]
    }
   ],
   "source": [
    "def read_pubmed_rct(url, limit=10000):\n",
    "\n",
    "    labels = []\n",
    "    sentences = []\n",
    "    i = 0\n",
    "    \n",
    "    with requests.get(url) as r:\n",
    "        for line in r.iter_lines():\n",
    "            if i >= limit:\n",
    "                break\n",
    "            fields = line.decode('utf-8').strip().split('\\t')\n",
    "            if len(fields) == 2:\n",
    "                labels.append(fields[0])\n",
    "                sentences.append(fields[1])\n",
    "                i += 1\n",
    "                \n",
    "    return sentences, labels\n",
    "\n",
    "s_train, l_train = read_pubmed_rct(train_url)\n",
    "s_val, l_val = read_pubmed_rct(val_url)\n",
    "s_test, l_test = read_pubmed_rct(test_url)\n",
    "\n",
    "print('There are %i sentences in the training set' % len(s_train))\n",
    "print('There are %i sentences in the validation set' % len(s_val))\n",
    "print('There are %i sentences in the test set' % len(s_test))"
   ]
  },
  {
   "cell_type": "markdown",
   "metadata": {},
   "source": [
    "## Exercise 10.1: Sentence Length (in words)\n",
    "\n",
    "Most of the time in natural language processing, we need to set a limit on how long are documents are allowed to be so that we can tell our model how big of an input it should expect. To get an initial sense of the length of our documents -- which in this case are sentences from PubMed abstracts -- let's plot a histogram of the sentence lengths (in words) for the sentences in our training set. Note that the length of a single sentence can be determined with `len(sentence.split())`.\n",
    "\n",
    "In the code block below, you should:\n",
    "\n",
    "1. Calculate the length of all sentences in `s_train` using a list comprehension\n",
    "2. Use `plt.hist` to plot the lengths as a histogram"
   ]
  },
  {
   "cell_type": "code",
   "execution_count": 5,
   "metadata": {},
   "outputs": [
    {
     "data": {
      "image/png": "[encoded data removed]",
      "text/plain": [
       "<Figure size 640x480 with 1 Axes>"
      ]
     },
     "metadata": {},
     "output_type": "display_data"
    }
   ],
   "source": [
    "### CALCULATE THE LENGTH OF EACH SENTENCE ###\n",
    "\n",
    "lengths = [len(s.split()) for s in s_train]\n",
    "\n",
    "### CREATE A HISTOGRAM SHOWING SENTENCE LENGTH IN THE TRAINING SET ###\n",
    "\n",
    "plt.hist(lengths)\n",
    "plt.show()"
   ]
  },
  {
   "cell_type": "markdown",
   "metadata": {},
   "source": [
    "## Sentence Embeddings\n",
    "\n",
    "Now let's load a pre-trained large language model (LLM), Bio_ClinicalBERT, and use it to convert our sentences to embeddings, which are numeric vectors that encode the meaning of each sentence. We'll begin by loading the tokenizer, which converts sentences to a sequence of *tokens* (i.e., words or parts of words), as well as the model, which converts the sequences of tokens to a sequence of vectors."
   ]
  },
  {
   "cell_type": "code",
   "execution_count": 6,
   "metadata": {},
   "outputs": [],
   "source": [
    "from transformers import AutoTokenizer, AutoModel\n",
    "import torch\n",
    "tokenizer = AutoTokenizer.from_pretrained(\"emilyalsentzer/Bio_ClinicalBERT\")\n",
    "model = AutoModel.from_pretrained(\"emilyalsentzer/Bio_ClinicalBERT\")"
   ]
  },
  {
   "cell_type": "markdown",
   "metadata": {},
   "source": [
    "Now, let's define a function that sequentially applies the tokenizer and model to convert a list of sentences to a numpy array of embeddings."
   ]
  },
  {
   "cell_type": "code",
   "execution_count": 7,
   "metadata": {},
   "outputs": [],
   "source": [
    "def embed_sentences(sentences, max_length=40):\n",
    "\n",
    "    inputs = tokenizer(sentences, padding=True, truncation=True, return_tensors=\"pt\", max_length=max_length)\n",
    "\n",
    "    # Get the embeddings from the model\n",
    "    with torch.no_grad():\n",
    "        outputs = model(**inputs)\n",
    "        embeddings = outputs.last_hidden_state.mean(dim=1).numpy()  # Mean pooling of token embeddings\n",
    "\n",
    "    return embeddings"
   ]
  },
  {
   "cell_type": "markdown",
   "metadata": {},
   "source": [
    "We can now embed our sentences! This step can take a few minutes."
   ]
  },
  {
   "cell_type": "code",
   "execution_count": null,
   "metadata": {},
   "outputs": [],
   "source": [
    "s_train_embedded = embed_sentences(s_train)\n",
    "s_val_embedded = embed_sentences(s_val)\n",
    "s_test_embedded = embed_sentences(s_test)"
   ]
  },
  {
   "cell_type": "markdown",
   "metadata": {},
   "source": [
    "Let's take a look at the shape of the resulting numpy arrays. The first dimension is the number of sentences, and the second is the dimension (i.e., the number of numeric elements) in each sentence embedding."
   ]
  },
  {
   "cell_type": "code",
   "execution_count": null,
   "metadata": {},
   "outputs": [],
   "source": [
    "s_train_embedded.shape, s_val_embedded.shape, s_test_embedded.shape"
   ]
  },
  {
   "cell_type": "markdown",
   "metadata": {},
   "source": [
    "## Exercise 10.2: A simple, LLM-powered sentence classifier\n",
    "\n",
    "We're now ready to train our model. In the block below, you should:\n",
    "1. Train `LogisticRegression` or another model of your choice (e.g. `MLPClassifier`) on the training set, then evaluate its performance on the validation set\n",
    "2. (**optional**) Explore the effects of using (a) different classifiers, or (b) different LLM encoders"
   ]
  },
  {
   "cell_type": "code",
   "execution_count": null,
   "metadata": {},
   "outputs": [],
   "source": [
    "from sklearn.neural_network import MLPClassifier\n",
    "\n",
    "### TRAIN A MODEL OF YOUR CHOICE ON THE TRAINING SET ###\n",
    "\n",
    "mlp_model = MLPClassifier(early_stopping=True).fit(s_train_embedded, l_train)\n",
    "\n",
    "### EVALUATE PERFORMANCE ON THE VALIDATION SET ###\n",
    "\n",
    "accuracy = np.mean(mlp_model.predict(s_val_embedded) == l_val)\n",
    "print('The accuracy is %.1f' % (100 * accuracy))"
   ]
  },
  {
   "cell_type": "markdown",
   "metadata": {},
   "source": [
    "## Steps to distribute your work as an html file:\n",
    "\n",
    "If you're using Anaconda on your local machine:\n",
    "- download your notebook as html (see `File > Download as > HTML (.html)`)\n",
    "\n",
    "If you're using Google Colab:\n",
    "- download your notebook as .ipynb (see `File > Download > Download .ipynb`)\n",
    "- if you have nbconvert installed, convert it to .html and submit it in Talent LMS\n",
    "- if not, you may need to place the .ipynb file in a .zip archive in order to distribute it (e.g. to upload or send via email)"
   ]
  },
  {
   "cell_type": "code",
   "execution_count": null,
   "metadata": {},
   "outputs": [],
   "source": []
  }
 ],
 "metadata": {
  "kernelspec": {
   "display_name": "huggingface",
   "language": "python",
   "name": "huggingface"
  },
  "language_info": {
   "codemirror_mode": {
    "name": "ipython",
    "version": 3
   },
   "file_extension": ".py",
   "mimetype": "text/x-python",
   "name": "python",
   "nbconvert_exporter": "python",
   "pygments_lexer": "ipython3",
   "version": "3.12.3"
  }
 },
 "nbformat": 4,
 "nbformat_minor": 4
}
